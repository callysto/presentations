{
 "cells": [
  {
   "cell_type": "markdown",
   "metadata": {},
   "source": [
    "![Callysto.ca Banner](https://github.com/callysto/curriculum-notebooks/blob/master/callysto-notebook-banner-top.jpg?raw=true)"
   ]
  },
  {
   "cell_type": "markdown",
   "metadata": {},
   "source": [
    "# Callysto’s Weekly Data Visualization\n",
    "\n",
    "### Recommended grade level: 5-12"
   ]
  },
  {
   "cell_type": "markdown",
   "metadata": {},
   "source": [
    "### Instructions\n",
    "\n",
    "**You don’t need to do any coding to view the visualizations**.\n",
    "The plots generated in this notebook are interactive. You can hover over and click on elements to see more information. \n",
    "\n",
    "Email contact@callysto.ca if you experience issues."
   ]
  },
  {
   "cell_type": "markdown",
   "metadata": {},
   "source": [
    "### About this Notebook\n",
    "\n",
    "Callysto's Weekly Data Visualization is a learning resource that aims to develop data literacy skills. We provide Grades 5-12 teachers and students with a data visualization, like a graph, to interpret. This companion resource walks learners through how the data visualization is created and interpreted by a data scientist. \n",
    "\n",
    "The steps of the data analysis process are listed below and applied to each weekly topic.\n",
    "\n",
    "1. Question - What are we trying to answer? \n",
    "2. Gather - Find the data source(s) you will need. \n",
    "3. Organize - Arrange the data, so that you can easily explore it. \n",
    "4. Explore - Examine the data to look for evidence to answer the question. This includes creating visualizations. \n",
    "5. Interpret - Describe what's happening in the data visualization. \n",
    "6. Communicate - Explain how the evidence answers the question. "
   ]
  },
  {
   "cell_type": "markdown",
   "metadata": {},
   "source": [
    "## Question\n",
    "How much time do Canadians spend playing video games and how does this change with demographics? We will use official Statistics Canada data to examine this question.\n",
    "\n",
    "\n",
    "### Goal\n",
    "Our goal is to create a series of graphs to observe how much time Canadians spend gaming, and how does the class data compare with them."
   ]
  },
  {
   "cell_type": "markdown",
   "metadata": {},
   "source": [
    "## Gather\n",
    "\n",
    "The code below will import the Python programming libraries we need to gather and organize the data to answer our question."
   ]
  },
  {
   "cell_type": "code",
   "execution_count": null,
   "metadata": {},
   "outputs": [],
   "source": [
    "import plotly.express as px  # used to create interactive plots\n",
    "import pandas as pd  # used to work with datasets\n",
    "from datetime import datetime, date  # used to get the current date and time\n",
    "import requests  # used for data collection"
   ]
  },
  {
   "cell_type": "markdown",
   "metadata": {},
   "source": [
    "The code below creates lists data from [this 2010 StatsCan table](https://www150.statcan.gc.ca/n1/pub/89-647-x/2011001/tbl/tbl31-eng.htm). The same study was done more recently in 2015. However, the more recent time use survey did not ask about video games.\n",
    "\n",
    "Our lists are as follows:\n",
    "\n",
    "|  List Name             | List Purpose                                                                             |\n",
    "|------------------------|------------------------------------------------------------------------------------------|\n",
    "| categories             | holds names for the age catagories for our bar chart                                     |\n",
    "| free_time              | holds number of minutes in \"free time\" activities for the average person on an average day |\n",
    "| videogame_time_all     | holds number of minutes spent gaming for the average person on an average day            |\n",
    "| videogame_time_players | holds number of minutes spent gaming for the average gamer on an average day             |"
   ]
  },
  {
   "cell_type": "code",
   "execution_count": null,
   "metadata": {},
   "outputs": [],
   "source": [
    "## import data\n",
    "categories = [\"15 to 24\", \"25 to 34\", \"35 to 44\", \"45 to 54\", \"55 to 64\", \"65 to 74\", \"75 and over\"]\n",
    "free_time = [5*60+57, 4*60+53, 4*60+6, 4*60+44, 5*60+55, 7*60+19, 7*60+34]\n",
    "videogame_time_all = [27, 10, 4, 4, 6, 6, 4]\n",
    "videogame_time_players = [2*60+44, 2*60+34, 109, 127, 118, 133, 2*60+32]"
   ]
  },
  {
   "cell_type": "markdown",
   "metadata": {},
   "source": [
    "## Organize\n",
    "\n",
    "Since our data is just 4 simple lists there is no need to organize it further."
   ]
  },
  {
   "cell_type": "markdown",
   "metadata": {},
   "source": [
    "## Explore-1\n",
    "\n",
    "The code below will be used to help us look for evidence to answer our question. This can involve looking at data in table format, applying math and statistics, and creating different types of visualizations to represent our data."
   ]
  },
  {
   "cell_type": "code",
   "execution_count": null,
   "metadata": {},
   "outputs": [],
   "source": [
    "fig = px.bar(x=videogame_time_all, y=categories,\n",
    "             title=\"Average Number of Minutes Spent Playing Video Games Per Day\",\n",
    "             labels={'y':'Age of Canadians - Years', 'x':'Minutes Gaming on Average Day'}\n",
    "            )\n",
    "fig.show()"
   ]
  },
  {
   "cell_type": "markdown",
   "metadata": {},
   "source": [
    "## Interpret-1\n",
    "\n",
    "Our first figure shows 15-24 year olds spending a lot more time than their older counterparts playing computer games but with a small bump for Canadians in early retirement age (55-64 and 65-75).\n",
    "\n",
    "## Explore-2"
   ]
  },
  {
   "cell_type": "code",
   "execution_count": null,
   "metadata": {},
   "outputs": [],
   "source": [
    "fig = px.bar(x=videogame_time_players, y=categories,\n",
    "             title=\"Average Number of Minutes Spent Playing Video Games Per Day\",\n",
    "             labels={'y':'Age of Canadians Who Play Computer Games - Years', 'x':'Minutes Gaming on Average Day'}\n",
    "            )\n",
    "fig.show()"
   ]
  },
  {
   "cell_type": "markdown",
   "metadata": {},
   "source": [
    "## Interpret-2\n",
    "\n",
    "There is a subtle difference between the last set of data, the data for the first figure, and this figure's data. The first calculated averages using all respondents to the census survey. This second figure just includes those who do actually play some computer games. Essentially, this second plot ignores any respondents who game zero hours on the average day. \n",
    "\n",
    "We see a very different plot for this second figure.  This figure is decidedly U-shaped. Those Canadians outside of working age seem to game the most.\n",
    "\n",
    "## Explore-3"
   ]
  },
  {
   "cell_type": "code",
   "execution_count": null,
   "metadata": {},
   "outputs": [],
   "source": [
    "fig = px.bar(x=free_time, y=categories,\n",
    "             title=\"Average Number of Minutes Spent on Free Time Activities Per Day\",\n",
    "             labels={'y':'Age of Canadians - Years', 'x':'Minutes of Free Time Activities Per Day'}\n",
    "            )\n",
    "fig.show()"
   ]
  },
  {
   "cell_type": "markdown",
   "metadata": {},
   "source": [
    "## Interpret-3\n",
    "\n",
    "This third plot isn't directly about gaming, but provides some context for the first few figures. It's showing how much time each age group has that is spent on free time activities including gaming. It seems to closely match the second figure.\n"
   ]
  },
  {
   "cell_type": "markdown",
   "metadata": {},
   "source": [
    "## Activity-1: Add your data\n",
    "\n",
    "Enter your free time and the amount of time you spend on video games to compare yourself with other Canadians."
   ]
  },
  {
   "cell_type": "code",
   "execution_count": null,
   "metadata": {},
   "outputs": [],
   "source": [
    "## Enter your data here:\n",
    "your_free_time = 120 # enter average number of minutes you spend on free time activities per day\n",
    "your_videogame_time = 15  # enter average number of minutes you spend on playing video games per day"
   ]
  },
  {
   "cell_type": "code",
   "execution_count": null,
   "metadata": {},
   "outputs": [],
   "source": [
    "fig = px.bar(x=videogame_time_all, y=categories,\n",
    "             title=\"Average Number of Minutes Spent Playing Video Games Per Day\",\n",
    "             labels={'y':'Age of Canadians - Years', 'x':'Minutes Gaming on Average Day'}\n",
    "            )\n",
    "fig.add_vline(x=your_videogame_time, line_color='red', line_dash='dash')\n",
    "fig.update_xaxes(range=[0, max(your_videogame_time, max(videogame_time_all)) * 1.1])\n",
    "fig.show()\n",
    "\n",
    "fig = px.bar(x=videogame_time_players, y=categories,\n",
    "             title=\"Average Number of Minutes Spent Playing Video Games Per Day\",\n",
    "             labels={'y':'Age of Canadians Who Play Computer Games - Years', 'x':'Minutes Gaming on Average Day'}\n",
    "            )\n",
    "fig.add_vline(x=your_videogame_time, line_color='red', line_dash='dash')\n",
    "fig.update_xaxes(range=[0, max(your_videogame_time, max(videogame_time_players)) * 1.1])\n",
    "fig.show()\n",
    "\n",
    "fig = px.bar(x=free_time, y=categories,\n",
    "             title=\"Average Number of Minutes Spent on Free Time Activities Per Day\",\n",
    "             labels={'y':'Age of Canadians - Years', 'x':'Minutes of Free Time Activities Per Day'}\n",
    "            )\n",
    "fig.add_vline(x=your_free_time, line_color='red', line_dash='dash')\n",
    "fig.update_xaxes(range=[0, max(your_free_time, max(free_time)) * 1.1])\n",
    "fig.show()"
   ]
  },
  {
   "cell_type": "markdown",
   "metadata": {},
   "source": [
    "## Question(s)-1\n",
    "\n",
    "- How do you compare with other Canadians on time spent on free time activities and video games per day?"
   ]
  },
  {
   "cell_type": "markdown",
   "metadata": {},
   "source": [
    "## Activity-2: Compare class data with published data"
   ]
  },
  {
   "cell_type": "code",
   "execution_count": null,
   "metadata": {},
   "outputs": [],
   "source": [
    "class_code = 'callysto'  # if runnning multiple workshops in day, this can be changed arbitarily, \n",
    "# or the spreadsheet can be cleaned manually\n",
    "date_and_time = datetime.now().strftime(\"%Y-%m-%d %H:%M:%S\")\n",
    "year, month, day = date.today().strftime(\"%y\"), date.today().strftime(\"%m\"), date.today().strftime(\"%d\")\n",
    "ethercalc_id = str(class_code) + str(year) + str(month) + str(day)\n",
    "base_url = 'https://ethercalc.net/'\n",
    "post_url = base_url + '_/' + ethercalc_id\n",
    "print('data will be posted to:', base_url+ethercalc_id)\n",
    "\n",
    "if_upload = True"
   ]
  },
  {
   "cell_type": "markdown",
   "metadata": {},
   "source": [
    "Run the cell below to upload your data to the cloud. The class data will then be compared with the published data."
   ]
  },
  {
   "cell_type": "code",
   "execution_count": null,
   "metadata": {},
   "outputs": [],
   "source": [
    "if if_upload:\n",
    "    r = requests.post(post_url, data= date_and_time +','+ str(class_code).upper() +','+ \n",
    "                      str(your_free_time) +','+ str(your_videogame_time))\n",
    "    if_upload = False"
   ]
  },
  {
   "cell_type": "markdown",
   "metadata": {},
   "source": [
    "Wait before everybody upload their data, then load the class data by running the following code cell."
   ]
  },
  {
   "cell_type": "code",
   "execution_count": null,
   "metadata": {},
   "outputs": [],
   "source": [
    "print('reading data from', base_url+ethercalc_id)\n",
    "class_data = pd.read_csv(base_url+ethercalc_id+'.csv')\n",
    "class_data.columns=['Timestamp', 'class code', 'free time (min/day)', 'games (min/day)']  # rename the columns\n",
    "class_data.drop(['Timestamp', 'class code'], inplace=True, axis=1)  # remove the necessary columns\n",
    "class_data.head(5)  # look at sample data collected"
   ]
  },
  {
   "cell_type": "code",
   "execution_count": null,
   "metadata": {},
   "outputs": [],
   "source": [
    "# look at some statistics for the class data\n",
    "class_data.describe()"
   ]
  },
  {
   "cell_type": "code",
   "execution_count": null,
   "metadata": {},
   "outputs": [],
   "source": [
    "# visualize the statistics using boxplots\n",
    "px.box(class_data)"
   ]
  },
  {
   "cell_type": "code",
   "execution_count": null,
   "metadata": {},
   "outputs": [],
   "source": [
    "# vidualize the statistics using bar plots\n",
    "# play with nbins (number of bins) to get a nice distribution\n",
    "fig = px.histogram(class_data['games (min/day)'],\n",
    "                   title=\"Average Number of Minutes Spent Playing Video Games Per Day\",  \n",
    "                   nbins=20\n",
    "                  )\n",
    "fig.show()\n",
    "fig = px.histogram(class_data['free time (min/day)'], \n",
    "                   title=\"Number of Minutes Spent on Free Time Activities Per Day\", \n",
    "                   nbins=20\n",
    "                  )\n",
    "fig.show()"
   ]
  },
  {
   "cell_type": "code",
   "execution_count": null,
   "metadata": {},
   "outputs": [],
   "source": [
    "free_time_class_avg = class_data['free time (min/day)'].mean()\n",
    "games_class_avg = class_data['games (min/day)'].mean()\n",
    "\n",
    "fig = px.bar(x=videogame_time_all, y=categories, \n",
    "             title=\"Average Number of Minutes Spent Playing Video Games Per Day\", \n",
    "             labels={'y':'Age of Canadians - Years', 'x':'Minutes Gaming on Average Day'}\n",
    "            )\n",
    "fig.add_vline(x=games_class_avg, line_color='yellow', line_dash='dash')\n",
    "fig.update_xaxes(range=[0, max(games_class_avg, max(videogame_time_all)) * 1.1])\n",
    "fig.show()\n",
    "\n",
    "fig = px.bar(x=videogame_time_players, y=categories, \n",
    "             title=\"Average Number of Minutes Spent Playing Video Games Per Day\", \n",
    "             labels={'y':'Age of Canadians Who Play Computer Games - Years', 'x':'Minutes Gaming on Average Day'}\n",
    "            )\n",
    "fig.add_vline(x=games_class_avg, line_color='yellow', line_dash='dash')\n",
    "fig.update_xaxes(range=[0, max(games_class_avg, max(videogame_time_players)) * 1.1])\n",
    "fig.show()\n",
    "\n",
    "fig = px.bar(x=free_time, y=categories, \n",
    "             title=\"Average Number of Minutes Spent on Free Time Activities Per Day\", \n",
    "             labels={'y':'Age of Canadians - Years', 'x':'Minutes of Free Time Activities Per Day'}\n",
    "            )\n",
    "fig.add_vline(x=free_time_class_avg, line_color='yellow', line_dash='dash')\n",
    "fig.update_xaxes(range=[0, max(free_time_class_avg, max(free_time)) * 1.1])\n",
    "fig.show()"
   ]
  },
  {
   "cell_type": "code",
   "execution_count": null,
   "metadata": {},
   "outputs": [],
   "source": [
    "# look for correlations\n",
    "fig = px.scatter(class_data, x=\"free time (min/day)\", y=\"games (min/day)\")\n",
    "fig.show()"
   ]
  },
  {
   "cell_type": "markdown",
   "metadata": {},
   "source": [
    "## Question(s)-2\n",
    "\n",
    "- How does the class average compare with other Canadians on time spent on free time activities and video games per day?\n",
    "- Is there any relation between the time spent on free time activities and time spent on video games per day?"
   ]
  },
  {
   "cell_type": "markdown",
   "metadata": {},
   "source": [
    "## Communicate\n",
    "\n",
    "Below we will reflect on the new information that is presented from the data. When we look at the evidence, think about what you perceive about the information. Is this perception based on what the evidence shows? If others were to view it, what perceptions might they have? These writing prompts can help you reflect.\n",
    "\n",
    "- Why do you think the second and third charts are so alike?\n",
    "- What does it mean that when you look at the population of Canadians, the average 15-24 year old spends much more time gaming than the 75 and over, but they're almost the same when you only look at people who game at least some?\n",
    "- If we had current data, how do you think these plots would look?"
   ]
  },
  {
   "cell_type": "markdown",
   "metadata": {},
   "source": [
    "[![Callysto.ca License](https://github.com/callysto/curriculum-notebooks/blob/master/callysto-notebook-banner-bottom.jpg?raw=true)](https://github.com/callysto/curriculum-notebooks/blob/master/LICENSE.md)"
   ]
  }
 ],
 "metadata": {
  "kernelspec": {
   "display_name": "Python 3 (ipykernel)",
   "language": "python",
   "name": "python3"
  },
  "language_info": {
   "codemirror_mode": {
    "name": "ipython",
    "version": 3
   },
   "file_extension": ".py",
   "mimetype": "text/x-python",
   "name": "python",
   "nbconvert_exporter": "python",
   "pygments_lexer": "ipython3",
   "version": "3.9.12"
  }
 },
 "nbformat": 4,
 "nbformat_minor": 4
}
