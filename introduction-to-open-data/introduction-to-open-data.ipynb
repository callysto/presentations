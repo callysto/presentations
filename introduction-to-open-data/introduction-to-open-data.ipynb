{
 "cells": [
  {
   "cell_type": "markdown",
   "metadata": {
    "slideshow": {
     "slide_type": "slide"
    }
   },
   "source": [
    "![Callysto.ca Banner](https://github.com/callysto/curriculum-notebooks/blob/master/callysto-notebook-banner-top.jpg?raw=true)\n",
    "\n",
    "# Introduction to Open Data\n",
    "\n",
    "David Hay | [@misterhay](https://twitter.com/misterhay)\n",
    "\n",
    "[Callysto.ca](https://callysto.ca) | [@callysto_canada](https://twitter.com/callysto_canada)\n",
    "\n",
    "<a href='https://creativecommons.org/licenses/by/4.0/'><img src='https://raw.githubusercontent.com/callysto/presentations/6a92e54f75f7fe60964d889de0704a0bbe07f8b3/introduction-to-data-science-for-educators/images/ccby.png' alt='CC BY' width='100'></a>"
   ]
  },
  {
   "cell_type": "markdown",
   "metadata": {
    "slideshow": {
     "slide_type": "slide"
    }
   },
   "source": [
    "# [Open Data](https://en.wikipedia.org/wiki/Open_data)\n",
    "* freely available to use and repurpose\n",
    "* usually published by governments or research institutions\n",
    "* similar to [public data](https://www.google.com/publicdata/directory) and [open access](https://en.wikipedia.org/wiki/Open_access) and [open science](https://en.wikipedia.org/wiki/Open_science)\n",
    "\n",
    "To be \"open\", the data should be both **openly licensed** and **machine-readable** (i.e. not images of scanned documents)."
   ]
  },
  {
   "cell_type": "markdown",
   "metadata": {
    "slideshow": {
     "slide_type": "slide"
    }
   },
   "source": [
    "## The Importance of Data\n",
    "\n",
    "* making good decisions\n",
    "* efficiency\n",
    "* improving accountability and transparency\n",
    "* confidence and engagement\n",
    "* collaboration\n",
    "* culture of improvement\n",
    "* innovation\n",
    "* \"what is measured is valued\""
   ]
  },
  {
   "cell_type": "markdown",
   "metadata": {
    "slideshow": {
     "slide_type": "subslide"
    }
   },
   "source": [
    "## Issues with (Open) Data\n",
    "\n",
    "* accuracy and timeliness are difficult\n",
    "* expenses related to collecting and publishing data (and sustainability)\n",
    "* stories need to come from data, not the other way\n",
    "* may be used for inappropriate purposes\n",
    "* potential lack of data literacy (consider correlation and causation)\n",
    "* privacy and security\n",
    "* transparency trap\n",
    "* \"what is measured is valued\""
   ]
  },
  {
   "cell_type": "markdown",
   "metadata": {
    "slideshow": {
     "slide_type": "slide"
    }
   },
   "source": [
    "# Finding Open Data\n",
    "\n",
    "* [Open data in Canada](https://en.wikipedia.org/wiki/Open_data_in_Canada)\n",
    "* [open.canada.ca](https://open.canada.ca)\n",
    "* [open.alberta.ca](https://open.alberta.ca)\n",
    "* [data.edmonton.ca](https://data.edmonton.ca)\n",
    "* [data.strathcona.ca](https://data.strathcona.ca)"
   ]
  },
  {
   "cell_type": "markdown",
   "metadata": {
    "slideshow": {
     "slide_type": "subslide"
    }
   },
   "source": [
    "# Searching or Browsing\n",
    "\n",
    "If you don't know what specifically you're looking for, there are usually ways to browse the data catalogues (e.g. by topic, popularity, or format).\n",
    "\n",
    "Common types include\n",
    "* public services\n",
    "* demographic\n",
    "* financial\n",
    "* political\n",
    "* cultural\n",
    "* environmental\n",
    "* geospacial"
   ]
  },
  {
   "cell_type": "markdown",
   "metadata": {
    "slideshow": {
     "slide_type": "slide"
    }
   },
   "source": [
    "# Using Open Data\n",
    "\n",
    "For example, in a [Jupyter notebook](https://jupyter.org) (e.g. on the [Callysto Hub](https://hub.callysto.ca)) we can download and display the data for [consumer price index changes in Alberta and Canada](https://open.alberta.ca/opendata/consumer-price-index-year-over-year-percentage-change-canada-and-alberta)."
   ]
  },
  {
   "cell_type": "code",
   "execution_count": null,
   "metadata": {
    "slideshow": {
     "slide_type": "subslide"
    }
   },
   "outputs": [],
   "source": [
    "import pandas as pd\n",
    "df = pd.read_csv('https://open.alberta.ca/dataset/443b43de-b8c0-4108-9aab-bde7df7532ed/resource/cfeb0607-bcb3-45e8-8947-59c5a3467118/download/stc_18-10-0004-01_consumer_price_index_csv_v29.0_2021-01-20.csv')\n",
    "df"
   ]
  },
  {
   "cell_type": "markdown",
   "metadata": {
    "slideshow": {
     "slide_type": "subslide"
    }
   },
   "source": [
    "## Visualizing Data\n",
    "\n",
    "While many open data portals have built-in visualization tools, we can also create visualizations of our own."
   ]
  },
  {
   "cell_type": "code",
   "execution_count": null,
   "metadata": {
    "slideshow": {
     "slide_type": "subslide"
    }
   },
   "outputs": [],
   "source": [
    "import plotly.express as px\n",
    "data = df[df['REF_DATE']=='DEC2020']\n",
    "px.bar(data, y='Products_and_product_groups', x='Percent_Change', color='GEO', title='Consumer Price Index Change')"
   ]
  },
  {
   "cell_type": "code",
   "execution_count": null,
   "metadata": {
    "slideshow": {
     "slide_type": "subslide"
    }
   },
   "outputs": [],
   "source": [
    "px.scatter(df[df['Products_and_product_groups']=='Food'], x='REF_DATE', y='VALUE', title='Food Price Index')"
   ]
  },
  {
   "cell_type": "markdown",
   "metadata": {
    "slideshow": {
     "slide_type": "subslide"
    }
   },
   "source": [
    "### Animated Charts"
   ]
  },
  {
   "cell_type": "code",
   "execution_count": null,
   "metadata": {
    "slideshow": {
     "slide_type": "subslide"
    }
   },
   "outputs": [],
   "source": [
    "px.bar(df.dropna(), y='Products_and_product_groups', x='Percent_Change', color='GEO', \n",
    "       animation_frame='REF_DATE', range_x=[df['Percent_Change'].min(),df['Percent_Change'].max()],\n",
    "       orientation='h', barmode='group', title='Consumer Price Index Change')"
   ]
  },
  {
   "cell_type": "markdown",
   "metadata": {
    "slideshow": {
     "slide_type": "subslide"
    }
   },
   "source": [
    "### Maps"
   ]
  },
  {
   "cell_type": "code",
   "execution_count": null,
   "metadata": {
    "slideshow": {
     "slide_type": "subslide"
    }
   },
   "outputs": [],
   "source": [
    "trees = pd.read_csv('https://prod-hub-indexer.s3.amazonaws.com/files/82841132047d47659508f60c52f6346a/0/full/4326/82841132047d47659508f60c52f6346a_0_full_4326.csv', low_memory=False)\n",
    "\n",
    "import folium\n",
    "from folium.plugins import MarkerCluster\n",
    "tree_map = folium.Map(location=[trees['Y'].mean(), trees['X'].mean()], zoom_start=11)\n",
    "marker_cluster = folium.plugins.MarkerCluster()\n",
    "for row in trees.itertuples():\n",
    "    marker_cluster.add_child(folium.Marker(location=[row.Y,row.X], popup=row.AssetID, tooltip=row.species))\n",
    "tree_map.add_child(marker_cluster)\n",
    "tree_map"
   ]
  },
  {
   "cell_type": "markdown",
   "metadata": {
    "slideshow": {
     "slide_type": "slide"
    }
   },
   "source": [
    "# Open Data in Education\n",
    "\n",
    "We [produce](https://open.alberta.ca/opendata?q=education&sort=score+desc) open data in education, but educators and students can also use data sets (and combinations of data sets) for [real-world learning](https://github.com/callysto/curriculum-notebooks/tree/master/Mathematics/StatisticsProject)."
   ]
  }
 ],
 "metadata": {
  "celltoolbar": "Slideshow",
  "kernelspec": {
   "display_name": "Python 3",
   "language": "python",
   "name": "python3"
  },
  "language_info": {
   "codemirror_mode": {
    "name": "ipython",
    "version": 3
   },
   "file_extension": ".py",
   "mimetype": "text/x-python",
   "name": "python",
   "nbconvert_exporter": "python",
   "pygments_lexer": "ipython3",
   "version": "3.8.3"
  }
 },
 "nbformat": 4,
 "nbformat_minor": 4
}
