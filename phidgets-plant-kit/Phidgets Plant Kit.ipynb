{
 "cells": [
  {
   "cell_type": "code",
   "execution_count": null,
   "id": "f827f174",
   "metadata": {},
   "outputs": [],
   "source": [
    "# Import Python libraries\n",
    "import ipywidgets as widgets\n",
    "from IPython.display import Javascript, display\n",
    "from time import sleep"
   ]
  },
  {
   "cell_type": "code",
   "execution_count": null,
   "id": "48bdec6c",
   "metadata": {},
   "outputs": [],
   "source": [
    "%%js\n",
    "// 'Import Javascript libraries'\n",
    "requirejs.config({\n",
    "    paths: { \n",
    "        'phidget22': ['https://unpkg.com/phidget22/browser/phidget22'], \n",
    "    },                                         \n",
    "});\n",
    "require(['phidget22'], (phidget22) => {\n",
    "   window.phidget22 = phidget22; \n",
    "});"
   ]
  },
  {
   "cell_type": "code",
   "execution_count": null,
   "id": "18180679",
   "metadata": {},
   "outputs": [],
   "source": [
    "## We pause for a second here, to allow the library to load\n",
    "sleep(1)"
   ]
  },
  {
   "cell_type": "markdown",
   "id": "d5414363",
   "metadata": {},
   "source": [
    "Make the USB connection between the Phidget and the browser:"
   ]
  },
  {
   "cell_type": "code",
   "execution_count": null,
   "id": "30375f5c",
   "metadata": {},
   "outputs": [],
   "source": [
    "%%js\n",
    "\n",
    "if (window.usbconn === undefined) {\n",
    "    \n",
    "    element.text(\"Creating a new USB Connection.\");\n",
    "    \n",
    "    window.usbconn = new phidget22.USBConnection();\n",
    "    \n",
    "    usbconn.connect().then(() => {\n",
    "        usbconn.requestWebUSBDeviceAccess();\n",
    "    }).catch(err => {\n",
    "        window.usbconn.delete();\n",
    "        element.append(\"Error connecting to USB\" + err);\n",
    "    });\n",
    "}"
   ]
  },
  {
   "cell_type": "code",
   "execution_count": null,
   "id": "568ed615",
   "metadata": {},
   "outputs": [],
   "source": [
    "## We rest for a bit while the USB port opens\n",
    "sleep(1)\n"
   ]
  },
  {
   "cell_type": "code",
   "execution_count": null,
   "id": "8ebd6519",
   "metadata": {},
   "outputs": [],
   "source": [
    "%%js\n",
    "// 'Check for USB connection'\n",
    "element.text(usbconn.connected);"
   ]
  },
  {
   "cell_type": "markdown",
   "id": "495c43b5",
   "metadata": {},
   "source": [
    "Connect Phidgets to notebook:"
   ]
  },
  {
   "cell_type": "code",
   "execution_count": null,
   "id": "67e7b875",
   "metadata": {},
   "outputs": [],
   "source": [
    "%%js\n",
    "\n",
    "// 'Soil moisture sensor'\n",
    "window.soilSensor = new phidget22.VoltageRatioInput();\n",
    "soilSensor.open();\n",
    "\n",
    "// 'Water pump'\n",
    "window.pump = new phidget22.DigitalOutput();\n",
    "pump.setIsHubPortDevice(true);\n",
    "pump.open();\n",
    "\n",
    "// 'Light sensor'\n",
    "window.lightSensor = new phidget22.LightSensor();\n",
    "lightSensor.open();"
   ]
  },
  {
   "cell_type": "code",
   "execution_count": null,
   "id": "4beb4972",
   "metadata": {},
   "outputs": [],
   "source": [
    "# Turn pump on\n",
    "Javascript('pump.setState(true);')"
   ]
  },
  {
   "cell_type": "code",
   "execution_count": null,
   "id": "6de77faa",
   "metadata": {},
   "outputs": [],
   "source": [
    "%%js\n",
    "// 'Turn pump off, this time in Javascript'\n",
    "pump.setState(false);"
   ]
  },
  {
   "cell_type": "code",
   "execution_count": null,
   "id": "edac3aec",
   "metadata": {},
   "outputs": [],
   "source": [
    "# Light sensor\n",
    "for i in range(10):\n",
    "    display(Javascript(\"element.text(lightSensor.getIlluminance());\"))\n",
    "    sleep(.25)"
   ]
  },
  {
   "cell_type": "code",
   "execution_count": null,
   "id": "c1f4c138",
   "metadata": {},
   "outputs": [],
   "source": [
    "# Moisture sensor\n",
    "for i in range(10):\n",
    "    display(Javascript(\"element.text(soilSensor.getVoltageRatio());\"))\n",
    "    sleep(.25)"
   ]
  },
  {
   "cell_type": "code",
   "execution_count": null,
   "id": "74edd5ad",
   "metadata": {},
   "outputs": [],
   "source": [
    "def doDisconnect(b):\n",
    "    display(Javascript(\"\"\"\n",
    "        (async () => {\n",
    "            await humSensor.close(); usbconn.close(); usbconn.delete(); delete window.usbconn;\n",
    "            element.text(\"You have disconnected the Phidgets.\");\n",
    "            })();\n",
    "    \"\"\"))\n",
    "\n",
    "run_button = widgets.Button(\n",
    "    description = 'IMPORTANT: Click to disconnect', \n",
    "        button_style='danger',layout=widgets.Layout(width='50%', height='80px')\n",
    ")\n",
    "print(\"Press this button when you are done, to disconnect the Phidgets\")\n",
    "run_button.on_click(doDisconnect)\n",
    "\n",
    "display(run_button)"
   ]
  },
  {
   "cell_type": "code",
   "execution_count": null,
   "id": "dbd4b250",
   "metadata": {},
   "outputs": [],
   "source": []
  }
 ],
 "metadata": {
  "kernelspec": {
   "display_name": "Python 3 (ipykernel)",
   "language": "python",
   "name": "python3"
  },
  "language_info": {
   "codemirror_mode": {
    "name": "ipython",
    "version": 3
   },
   "file_extension": ".py",
   "mimetype": "text/x-python",
   "name": "python",
   "nbconvert_exporter": "python",
   "pygments_lexer": "ipython3",
   "version": "3.10.8"
  }
 },
 "nbformat": 4,
 "nbformat_minor": 5
}
